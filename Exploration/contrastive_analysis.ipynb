{
 "cells": [
  {
   "cell_type": "markdown",
   "metadata": {},
   "source": [
    "# Contrastive analysis\n",
    "Yeah"
   ]
  },
  {
   "cell_type": "code",
   "execution_count": 2,
   "metadata": {},
   "outputs": [],
   "source": [
    "import os\n",
    "import sys\n",
    "\n",
    "if colab := 'google_colab' in sys.modules:\n",
    "    from google.colab import drive\n",
    "    drive.mount(\"/content/drive\")\n",
    "    # in case we'll do a shared drive, this will have to be changed.\n",
    "    # For now it is basically a placeholder\n",
    "    BASE_PATH = \"drive/MyDrive/HLT/ProjectAthena/\"\n",
    "    sys.path.insert(0,BASE_PATH)\n",
    "\n",
    "    !pip install wordcloud\n",
    "    !pip install -U scikit-learn\n",
    "    !pip install -U nltk\n",
    "    !pip install -U seaborn\n",
    "else:\n",
    "    BASE_PATH = \"..\""
   ]
  },
  {
   "cell_type": "code",
   "execution_count": 3,
   "metadata": {},
   "outputs": [],
   "source": [
    "# More imports:\n",
    "import pandas as pd\n",
    "import numpy as np\n",
    "import matplotlib.pyplot as plt\n",
    "import seaborn as sns\n",
    "\n",
    "#from typing import List, Dict, Optional, Tuple"
   ]
  },
  {
   "cell_type": "code",
   "execution_count": 4,
   "metadata": {},
   "outputs": [
    {
     "name": "stderr",
     "output_type": "stream",
     "text": [
      "[nltk_data] Downloading package punkt to /home/andrea/nltk_data...\n",
      "[nltk_data]   Package punkt is already up-to-date!\n",
      "[nltk_data] Downloading package stopwords to /home/andrea/nltk_data...\n",
      "[nltk_data]   Package stopwords is already up-to-date!\n"
     ]
    },
    {
     "data": {
      "text/plain": [
       "True"
      ]
     },
     "execution_count": 4,
     "metadata": {},
     "output_type": "execute_result"
    }
   ],
   "source": [
    "import nltk\n",
    "\n",
    "nltk.download('punkt')\n",
    "nltk.download('stopwords')"
   ]
  },
  {
   "cell_type": "code",
   "execution_count": 5,
   "metadata": {},
   "outputs": [],
   "source": [
    "# Using NLTK stopwords\n",
    "from nltk.corpus import stopwords\n",
    "\n",
    "stopwords_list = stopwords.words('english')"
   ]
  },
  {
   "cell_type": "markdown",
   "metadata": {},
   "source": [
    "## Creating our dataset distribution"
   ]
  },
  {
   "cell_type": "code",
   "execution_count": 6,
   "metadata": {},
   "outputs": [
    {
     "data": {
      "text/html": [
       "<div>\n",
       "<style scoped>\n",
       "    .dataframe tbody tr th:only-of-type {\n",
       "        vertical-align: middle;\n",
       "    }\n",
       "\n",
       "    .dataframe tbody tr th {\n",
       "        vertical-align: top;\n",
       "    }\n",
       "\n",
       "    .dataframe thead th {\n",
       "        text-align: right;\n",
       "    }\n",
       "</style>\n",
       "<table border=\"1\" class=\"dataframe\">\n",
       "  <thead>\n",
       "    <tr style=\"text-align: right;\">\n",
       "      <th></th>\n",
       "      <th>title</th>\n",
       "      <th>author</th>\n",
       "      <th>school</th>\n",
       "      <th>sentence_spacy</th>\n",
       "      <th>sentence_str</th>\n",
       "      <th>original_publication_date</th>\n",
       "      <th>corpus_edition_date</th>\n",
       "      <th>sentence_length</th>\n",
       "      <th>sentence_lowered</th>\n",
       "      <th>tokenized_txt</th>\n",
       "      <th>lemmatized_str</th>\n",
       "    </tr>\n",
       "  </thead>\n",
       "  <tbody>\n",
       "    <tr>\n",
       "      <th>0</th>\n",
       "      <td>Plato - Complete Works</td>\n",
       "      <td>Plato</td>\n",
       "      <td>plato</td>\n",
       "      <td>What's new, Socrates, to make you leave your ...</td>\n",
       "      <td>What's new, Socrates, to make you leave your ...</td>\n",
       "      <td>-350</td>\n",
       "      <td>1997</td>\n",
       "      <td>125</td>\n",
       "      <td>what's new, socrates, to make you leave your ...</td>\n",
       "      <td>['what', 'new', 'socrates', 'to', 'make', 'you...</td>\n",
       "      <td>what be new , Socrates , to make -PRON- lea...</td>\n",
       "    </tr>\n",
       "    <tr>\n",
       "      <th>1</th>\n",
       "      <td>Plato - Complete Works</td>\n",
       "      <td>Plato</td>\n",
       "      <td>plato</td>\n",
       "      <td>Surely you are not prosecuting anyone before t...</td>\n",
       "      <td>Surely you are not prosecuting anyone before t...</td>\n",
       "      <td>-350</td>\n",
       "      <td>1997</td>\n",
       "      <td>69</td>\n",
       "      <td>surely you are not prosecuting anyone before t...</td>\n",
       "      <td>['surely', 'you', 'are', 'not', 'prosecuting',...</td>\n",
       "      <td>surely -PRON- be not prosecute anyone before ...</td>\n",
       "    </tr>\n",
       "    <tr>\n",
       "      <th>2</th>\n",
       "      <td>Plato - Complete Works</td>\n",
       "      <td>Plato</td>\n",
       "      <td>plato</td>\n",
       "      <td>The Athenians do not call this a prosecution b...</td>\n",
       "      <td>The Athenians do not call this a prosecution b...</td>\n",
       "      <td>-350</td>\n",
       "      <td>1997</td>\n",
       "      <td>74</td>\n",
       "      <td>the athenians do not call this a prosecution b...</td>\n",
       "      <td>['the', 'athenians', 'do', 'not', 'call', 'thi...</td>\n",
       "      <td>the Athenians do not call this a prosecution ...</td>\n",
       "    </tr>\n",
       "    <tr>\n",
       "      <th>3</th>\n",
       "      <td>Plato - Complete Works</td>\n",
       "      <td>Plato</td>\n",
       "      <td>plato</td>\n",
       "      <td>What is this you say?</td>\n",
       "      <td>What is this you say?</td>\n",
       "      <td>-350</td>\n",
       "      <td>1997</td>\n",
       "      <td>21</td>\n",
       "      <td>what is this you say?</td>\n",
       "      <td>['what', 'is', 'this', 'you', 'say']</td>\n",
       "      <td>what be this -PRON- say ?</td>\n",
       "    </tr>\n",
       "    <tr>\n",
       "      <th>4</th>\n",
       "      <td>Plato - Complete Works</td>\n",
       "      <td>Plato</td>\n",
       "      <td>plato</td>\n",
       "      <td>Someone must have indicted you, for you are no...</td>\n",
       "      <td>Someone must have indicted you, for you are no...</td>\n",
       "      <td>-350</td>\n",
       "      <td>1997</td>\n",
       "      <td>101</td>\n",
       "      <td>someone must have indicted you, for you are no...</td>\n",
       "      <td>['someone', 'must', 'have', 'indicted', 'you',...</td>\n",
       "      <td>someone must have indict -PRON- , for -PRON- ...</td>\n",
       "    </tr>\n",
       "  </tbody>\n",
       "</table>\n",
       "</div>"
      ],
      "text/plain": [
       "                    title author school  \\\n",
       "0  Plato - Complete Works  Plato  plato   \n",
       "1  Plato - Complete Works  Plato  plato   \n",
       "2  Plato - Complete Works  Plato  plato   \n",
       "3  Plato - Complete Works  Plato  plato   \n",
       "4  Plato - Complete Works  Plato  plato   \n",
       "\n",
       "                                      sentence_spacy  \\\n",
       "0   What's new, Socrates, to make you leave your ...   \n",
       "1  Surely you are not prosecuting anyone before t...   \n",
       "2  The Athenians do not call this a prosecution b...   \n",
       "3                              What is this you say?   \n",
       "4  Someone must have indicted you, for you are no...   \n",
       "\n",
       "                                        sentence_str  \\\n",
       "0   What's new, Socrates, to make you leave your ...   \n",
       "1  Surely you are not prosecuting anyone before t...   \n",
       "2  The Athenians do not call this a prosecution b...   \n",
       "3                              What is this you say?   \n",
       "4  Someone must have indicted you, for you are no...   \n",
       "\n",
       "   original_publication_date  corpus_edition_date  sentence_length  \\\n",
       "0                       -350                 1997              125   \n",
       "1                       -350                 1997               69   \n",
       "2                       -350                 1997               74   \n",
       "3                       -350                 1997               21   \n",
       "4                       -350                 1997              101   \n",
       "\n",
       "                                    sentence_lowered  \\\n",
       "0   what's new, socrates, to make you leave your ...   \n",
       "1  surely you are not prosecuting anyone before t...   \n",
       "2  the athenians do not call this a prosecution b...   \n",
       "3                              what is this you say?   \n",
       "4  someone must have indicted you, for you are no...   \n",
       "\n",
       "                                       tokenized_txt  \\\n",
       "0  ['what', 'new', 'socrates', 'to', 'make', 'you...   \n",
       "1  ['surely', 'you', 'are', 'not', 'prosecuting',...   \n",
       "2  ['the', 'athenians', 'do', 'not', 'call', 'thi...   \n",
       "3               ['what', 'is', 'this', 'you', 'say']   \n",
       "4  ['someone', 'must', 'have', 'indicted', 'you',...   \n",
       "\n",
       "                                      lemmatized_str  \n",
       "0     what be new , Socrates , to make -PRON- lea...  \n",
       "1   surely -PRON- be not prosecute anyone before ...  \n",
       "2   the Athenians do not call this a prosecution ...  \n",
       "3                          what be this -PRON- say ?  \n",
       "4   someone must have indict -PRON- , for -PRON- ...  "
      ]
     },
     "execution_count": 6,
     "metadata": {},
     "output_type": "execute_result"
    }
   ],
   "source": [
    "df = pd.read_csv(os.path.join(BASE_PATH,'philosophy_data.csv'))\n",
    "df.head()"
   ]
  },
  {
   "cell_type": "code",
   "execution_count": 7,
   "metadata": {},
   "outputs": [],
   "source": [
    "SCHOOLS = df['school'].unique()"
   ]
  },
  {
   "cell_type": "code",
   "execution_count": 8,
   "metadata": {},
   "outputs": [],
   "source": [
    "# all this mess because .csv saves lists as strings\n",
    "df['tokenized_txt'] = df['tokenized_txt'].apply(lambda frase: [word.strip('\\'') for word in frase[1:-1].split(', ')])"
   ]
  },
  {
   "cell_type": "markdown",
   "metadata": {},
   "source": [
    "### ~~Space~~ Tokens oddity"
   ]
  },
  {
   "cell_type": "markdown",
   "metadata": {},
   "source": [
    "We want to create our bag of words, to create the distributions"
   ]
  },
  {
   "cell_type": "markdown",
   "metadata": {},
   "source": [
    "Modo 1:"
   ]
  },
  {
   "cell_type": "code",
   "execution_count": 8,
   "metadata": {},
   "outputs": [],
   "source": [
    "from exploration_utils import create_bow\n",
    "\n",
    "# create a dictionary with the BOW count for each philosophical school,\n",
    "# in which the stopwords are filtered out\n",
    "schools_bow_sklearn = {}\n",
    "for school in SCHOOLS:\n",
    "    schools_bow_sklearn[school] = create_bow(school=school, dataframe=df, stopwords=stopwords_list)"
   ]
  },
  {
   "cell_type": "markdown",
   "metadata": {},
   "source": [
    "Modo 2:"
   ]
  },
  {
   "cell_type": "code",
   "execution_count": 19,
   "metadata": {},
   "outputs": [],
   "source": [
    "# Let's create a BoW for each class, using NLTK and the tokenized_txt column\n",
    "from itertools import chain\n",
    "\n",
    "schools_bow = {}\n",
    "schools_bow_Mk2 = {}\n",
    "for school in SCHOOLS:\n",
    "    tokenized_sentences = df.loc[df['school']==school,'tokenized_txt'] \n",
    "    schools_bow[school] = nltk.FreqDist([w for w in chain.from_iterable(tokenized_sentences) if w not in stopwords_list])\n",
    "    \n",
    "    tokenized_sentences_Mk2 = [nltk.word_tokenize(sent.lower()) for sent in df.loc[df['school']==school,'sentence_str']]\n",
    "    schools_bow_Mk2[school] = nltk.FreqDist([w for w in chain.from_iterable(tokenized_sentences_Mk2) if w not in stopwords_list])"
   ]
  },
  {
   "cell_type": "markdown",
   "metadata": {},
   "source": [
    "Are the two methods equal?"
   ]
  },
  {
   "cell_type": "code",
   "execution_count": 10,
   "metadata": {},
   "outputs": [
    {
     "name": "stdout",
     "output_type": "stream",
     "text": [
      "School: plato, equal: False\n",
      "FreqDist's n° elements: 18473\n",
      "Length BoW from sklearn's CountVectorizer: 18484\n",
      "In NLTK but not sklearn: {'dikaıon': 1, 'poleos': 1, 'nomesis': 1, 'philanthropia': 1, 'kuon': 1, 'ethonoe': 1, 'oionistic': 2, 'horosa': 1, 'hecaerge': 1, 'mosthai': 1, 'phronesis': 6, 'planeta': 1, 'dioxis': 1, 'aer': 3, 'hudor': 3, 'gnome': 2, 'doxes': 1, 'thelus': 1, 'boulesis': 1, 'entree': 1, 'enantiotes': 1, 'oiesis': 1, 'pteros': 1, 'taxeos': 2, 'zen': 3, 'mneme': 1, 'proteges': 1, 'meden': 1, 'skleroter': 1, 'chremata': 2, 'hektor': 1, 'parakatatheke': 1, 'daemones': 2, 'anthropos': 3, 'enkrates': 1, 'diaıon': 3, 'sophron': 3, 'aner': 1, 'eros': 7, 'nouthetesis': 1, 'oikeiotes': 1, 'sema': 2, 'houtos': 1, 'neuron': 1, 'heone': 1, 'aeitheer': 1, 'sozetai': 1, 'sophronein': 1, 'naıvete': 2, 'chrestotes': 1, 'eleutheriotes': 1, 'ethelemos': 1, 'ateros': 1, 'hesuchei': 1, 'kakophuıa': 1, 'sophistes': 2, 'phones': 1, 'gignoskomenen': 1, 'demegoros': 1, 'hepeısteme': 2, 'seion': 1, 'soma': 2, 'ethoumenon': 1, 'memnemai': 1, 'aeiballon': 1, 'tekmerion': 1, 'misesases': 1, 'gloiodes': 1, 'algedon': 1, 'kakos': 1, 'meies': 1, 'aıdes': 1, 'hautoi': 1, 'raithumia': 1, 'erotan': 1, 'sklerotes': 1, 'apolluon': 1, 'tautes': 1, 'apolouon': 2, 'hedone': 3, 'adelon': 1, 'aidos': 1, 'phone': 1, 'histesi': 3, 'panton': 2, 'aetai': 1, 'anathron': 1, 'kollodes': 1, 'skleron': 1, 'zena': 5, 'facade': 4, 'eipei': 1, 'theion': 1, 'anastrope': 1, 'heros': 2, 'emesato': 2, 'saıs': 1, 'zoa': 2, 'anepistemosune': 1, 'aıdion': 1, 'atera': 1, 'katachrointo': 1, 'apoluon': 1, 'rhetores': 1, 'opa': 1, 'demiourgos': 1, 'aistheseis': 1, 'epatato': 1, 'pantei': 1, 'praiotes': 1, 'aletheia': 6, 'opope': 2, 'ophelimon': 3, 'osia': 3, 'noman': 1, 'keros': 1, 'heautoi': 3, 'heautes': 1, 'autes': 1, 'alethous': 1, 'paradosete': 1, 'eiremes': 1, 'heauten': 1, 'somatos': 2, 'episteme': 8, 'poietes': 1, 'thele': 2, 'podon': 1, 'soteria': 2, 'auletike': 1, 'demegorein': 1, 'amuetoi': 1, 'poiesis': 1, 'teide': 1, 'onton': 3, 'zemiodes': 5, 'psephisma': 1, 'noetou': 1, 'sophrosune': 7, 'gones': 1, 'aetorrous': 1, 'tethelenai': 1, 'otetos': 1, 'diattomenon': 1, 'epihisteme': 1, 'aretes': 2, 'bolon': 1, 'eitiato': 1, 'mechane': 3, 'othoun': 1, 'memimesthai': 1, 'bakcheion': 1, 'hermeneus': 1, 'etre': 1, 'psuches': 1, 'ethei': 1, 'mekos': 3, 'auton': 1, 'kieinesis': 1, 'kosmiotes': 1, 'simoıs': 1, 'soizein': 1, 'thrasutes': 1, 'anoetoi': 1, 'polesis': 1, 'anthropoi': 1, 'tete': 2, 'beta': 1, 'polon': 1, 'noi': 1, 'boetheia': 1, 'athenaa': 1, 'kaon': 1, 'oionoıstic': 1, 'ekeinon': 1, 'noeton': 1, 'siderou': 1, 'zetein': 1, 'histor': 2, 'mesembria': 1, 'apolon': 1, 'echon': 1, 'kinesis': 4, 'sunteinonton': 1, 'doxopaideutikes': 1, 'achthedon': 1, 'onesis': 2, 'epaphon': 1, 'enantioi': 1, 'strategous': 1, 'phusodes': 1, 'saıtic': 1, 'agogen': 1, 'heroas': 1, 'alloi': 2, 'phos': 1, 'dorea': 1, 'deinotes': 1, 'aıssein': 1, 'agapesis': 1, 'rhome': 1, 'anopheles': 1, 'nomothetes': 2, 'euphuıa': 1, 'meteoroporo': 1, 'aisthesis': 2, 'anerotetheis': 1, 'adeilon': 1, 'poietike': 1, 'demiodes': 1, 'humon': 1, 'gignoskomenes': 1, 'emmelos': 1, 'pei': 1}\n",
      "In sklearn but not NLTK: {'rai': 2, 'gignōskomenēn': 1, 'epapho': 1, 'eipēi': 1, 'tethe': 1, 'teria': 1, 'anero': 1, 'thoumenon': 1, 'ron': 1, 'achthe': 1, 'pse': 1, 'ria': 1, 'lenai': 1, 'memime': 1, 'ero': 8, 'sthai': 2, 'stic': 1, 'ade': 5, 'tre': 1, 'mese': 1, 'bakcheio': 1, 'den': 1, 'anthro': 4, 'ssein': 1, 'phron': 1, 'roporo': 1, 'oikeiote': 1, 'humo': 1, 'pēi': 1, 'rhe': 1, 'pante': 1, 'poleo': 1, 'anathro': 1, 'anepiste': 1, 'ros': 2, 'seio': 1, 'euphuı': 1, 'taxeo': 2, 'ke': 2, 'apoluo': 1, 'kao': 1, 'rho': 1, 'torrous': 1, 'pho': 3, 'mio': 6, 'naı': 2, 'phrosune': 7, 'naa': 1, 'strate': 1, 'simoı': 1, 'stote': 1, 'seis': 1, 'tekme': 1, 'noe': 10, 'rge': 1, 'pantōn': 1, 'eireme': 1, 'ote': 1, 'skle': 3, 'memne': 1, 'doxopaideutike': 1, 'anoe': 1, 'ptero': 1, 'sunteinonto': 1, 'tike': 2, 'goros': 1, 'tic': 1, 'neus': 1, 'dikaı': 1, 'mera': 3, 'herme': 1, 'praiote': 1, 'gous': 1, 'oionoı': 1, 'ste': 2, 'enkrate': 1, 'thoun': 1, 'philanthro': 1, 'mbria': 1, 'kuo': 1, 'agape': 1, 'deinote': 1, 'mata': 2, 'des': 10, 'histo': 2, 'houto': 1, 'le': 2, 'aido': 1, 'oie': 1, 'heaute': 2, 'itiato': 1, 'thrasute': 1, 'mise': 1, 'phro': 2, 'nomothete': 2, 'hepeı': 2, 'hauto': 1, 'taute': 1, 'aule': 1, 'izein': 1, 'sato': 2, 'mne': 1, 'tis': 1, 'theo': 1, 'ae': 5, 'miourgos': 1, 'phrone': 6, 'kosmiote': 1, 'nistic': 2, 'tan': 1, 'diatto': 1, 'gignōskomenēs': 1, 'prote': 1, 'patato': 1, 'epihiste': 1, 'rea': 1, 'nouthete': 1, 'tos': 1, 'lios': 2, 'mos': 1, 'hekto': 1, 'sia': 3, 'podo': 1, 'suchei': 1, 'chre': 3, 'mai': 1, 'ithumia': 1, 'opo': 2, 'rou': 1, 'bolo': 1, 'horo': 1, 'meteo': 1, 'mones': 2, 'tores': 1, 'gloio': 1, 'phuso': 1, 'allo': 2, 'aeiballo': 1, 'anastro': 1, 'kos': 3, 'eido': 1, 'episte': 8, 'aı': 3, 'chane': 3, 'meie': 1, 'kakophuı': 1, 'heauto': 3, 'sele': 2, 'poie': 3, 'amue': 1, 'histe': 3, 'ontōn': 1, 'ne': 4, 'adeilo': 1, 'sophiste': 2, 'boe': 1, 'dae': 2, 'pos': 3, 'lus': 1, 'panto': 1, 'eme': 2, 'ekeino': 1, 'ide': 1, 'hecae': 1, 'katachro': 1, 'tein': 1, 'saı': 2, 'oio': 2, 'matos': 2, 'apolluo': 1, 'entre': 1, 'thous': 1, 'parado': 1, 'gno': 2, 'ethele': 1, 'kine': 4, 'tai': 1, 'zo': 2, 'gime': 1, 'mosune': 1, 'apolouo': 2, 'sete': 1, 'phronein': 1, 'hudo': 3, 'ro': 3, 'kollo': 1, 'winge': 1, 'athe': 1, 'theio': 1, 'apolo': 1, 'poi': 1, 'pheles': 1, 'phisma': 1, 'vete': 2, 'enantiote': 1, 'aeithee': 1, 'pe': 3, 'doxe': 1, 'rion': 1, 'dio': 1, 'auto': 2, 'homopolo': 1, 'aisthe': 3, 'pia': 1, 'fac': 4, 'na': 5, 'alge': 1, 'sase': 1, 'eleutheriote': 1, 'xis': 1, 'phelimon': 3, 'parakatathe': 1, 'emmelo': 1, 'gorein': 1, 'kieine': 1, 'zetai': 1, 'thonoe': 1, 'kako': 2, 'theis': 1, 'enantio': 1, 'rheo': 1, 'menon': 1, 'ane': 1, 'neuro': 1, 'diaı': 3}\n",
      "\n",
      "School: aristotle, equal: False\n",
      "FreqDist's n° elements: 21001\n",
      "Length BoW from sklearn's CountVectorizer: 21004\n",
      "In NLTK but not sklearn: {'': 4, 'naıve': 1, 'hermocaıcoxanthus': 1, 'denouement': 7, 'hemiolios': 1, 'aleıan': 1, 'taygetus': 1, 'deıope': 1, 'proıousa': 1}\n",
      "In sklearn but not NLTK: {'ro': 1, 'miolios': 1, 'proı': 1, 'getus': 1, 'deı': 1, 'ope': 1, 'naı': 1, 'tay': 1, 'aleı': 1, 'nouement': 7, 'coxanthus': 1, 'hermocaı': 1}\n",
      "\n",
      "School: empiricism, equal: True\n",
      "FreqDist's n° elements: 12814\n",
      "Length BoW from sklearn's CountVectorizer: 12814\n",
      "In NLTK but not sklearn: {}\n",
      "In sklearn but not NLTK: {}\n",
      "\n",
      "School: rationalism, equal: True\n",
      "FreqDist's n° elements: 18781\n",
      "Length BoW from sklearn's CountVectorizer: 18781\n",
      "In NLTK but not sklearn: {}\n",
      "In sklearn but not NLTK: {}\n",
      "\n",
      "School: analytic, equal: False\n",
      "FreqDist's n° elements: 24795\n",
      "Length BoW from sklearn's CountVectorizer: 24800\n",
      "In NLTK but not sklearn: {'': 7, 'ειδος': 1, 'lob': 6, 'connaıtre': 2, 'papiermache': 3, 'filosofıa': 1, 'medecin': 4, 'filosofico': 1, 'analisis': 1, 'kunne': 7, 'boer': 2, 'etait': 1, 'naıve': 1, 'facade': 1, 'hebraischen': 1, 'facades': 4, 'bjornsson': 3, 'hetres': 3, 'hetre': 2, 'konig': 1, 'episteme': 2}\n",
      "In sklearn but not NLTK: {'ischen': 1, 'boe': 2, 'filosofı': 1, 'decin': 4, 'delian': 10, 'nig': 1, 'naı': 1, 'ku': 7, 'schro': 1, 'beitra': 1, 'connaı': 2, 'papierma': 3, 'rnsson': 3, 'lisis': 1, 'eda': 15, 'nne': 7, 'bjo': 3, 'castan': 15, 'tait': 1, 'filoso': 1, 'wenheim': 1, 'fico': 1, 'ko': 1, 'hebra': 1, 'εἴδος': 1, 'tres': 3}\n",
      "\n",
      "School: continental, equal: True\n",
      "FreqDist's n° elements: 28535\n",
      "Length BoW from sklearn's CountVectorizer: 28535\n",
      "In NLTK but not sklearn: {}\n",
      "In sklearn but not NLTK: {}\n",
      "\n",
      "School: phenomenology, equal: True\n",
      "FreqDist's n° elements: 20962\n",
      "Length BoW from sklearn's CountVectorizer: 20962\n",
      "In NLTK but not sklearn: {}\n",
      "In sklearn but not NLTK: {}\n",
      "\n"
     ]
    },
    {
     "name": "stdout",
     "output_type": "stream",
     "text": [
      "School: german_idealism, equal: False\n",
      "FreqDist's n° elements: 27975\n",
      "Length BoW from sklearn's CountVectorizer: 27992\n",
      "In NLTK but not sklearn: {'': 1, 'jons': 1, 'wohler': 2, 'algebrique': 1, 'gleichgultiges': 1, 'asthetik': 1, 'differentiel': 1, 'degres': 1, 'ursprunglichkeit': 1, 'satze': 1, 'verstandiges': 1, 'bohme': 1, 'numeriques': 2, 'algebriques': 1, 'vollstandiger': 1, 'adaquate': 1, 'reflexions': 4, 'phadon': 1, 'identitat': 1, 'samtliche': 1, 'preestablie': 1, 'jubilaumsausgabe': 1, 'ecrire': 1, 'metaphysique': 3, 'developpons': 1, 'gesprachen': 1, 'wurzburg': 1, 'ausgefuhrte': 1, 'gesprach': 1, 'jahrbucher': 1, 'reduits': 1, 'zoller': 1, 'degages': 1, 'punctualitat': 1, 'superieure': 1, 'beytrage': 1, 'lowe': 1, 'ecole': 3, 'naıve': 3, 'zufalligkeit': 1, 'ursprungliche': 1, 'quantitativitat': 2, 'gobbard': 1, 'quantites': 1, 'nurnberg': 2, 'meme': 1, 'gunter': 1, 'objectivitat': 2, 'evanouissans': 1}\n",
      "In sklearn but not NLTK: {'rentiel': 1, 'zufa': 1, 'ngliche': 1, 'versta': 1, 'nu': 2, 'rite': 1, 'punctualita': 1, 'gespra': 2, 'hler': 2, 'ration': 1, 'rnberg': 2, 'nume': 2, 'chen': 1, 'rieure': 1, 'hrte': 1, 'duits': 1, 'cher': 1, 'objectivita': 2, 'lligkeit': 1, 'ltiges': 1, 'sthetik': 1, 'quantite': 1, 'simal': 3, 'naı': 3, 'supe': 1, 'briques': 1, 'ller': 1, 'vollsta': 1, 'beytra': 1, 'degre': 1, 'gru': 2, 'flexions': 4, 'ausgefu': 1, 'vanouissans': 1, 'urspru': 2, 'hme': 1, 'gleichgu': 1, 'taphysique': 3, 'jubila': 1, 'jahrbu': 1, 'riques': 2, 'identita': 1, 'pha': 1, 'conside': 1, 'orie': 12, 'syste': 1, 'umsausgabe': 1, 'wu': 1, 'lae': 1, 'ndiger': 1, 'crire': 1, 'nter': 1, 'quantita': 1, 'brique': 1, 'veloppons': 1, 'mtliche': 1, 'bbard': 1, 'rtius': 1, 'ttingen': 1, 'alge': 2, 'quantitativita': 2, 'establie': 1, 'rzburg': 1, 'quations': 2, 'gage': 1, 'ndiges': 1}\n",
      "\n",
      "School: communism, equal: True\n",
      "FreqDist's n° elements: 18192\n",
      "Length BoW from sklearn's CountVectorizer: 18192\n",
      "In NLTK but not sklearn: {}\n",
      "In sklearn but not NLTK: {}\n",
      "\n",
      "School: capitalism, equal: True\n",
      "FreqDist's n° elements: 12447\n",
      "Length BoW from sklearn's CountVectorizer: 12447\n",
      "In NLTK but not sklearn: {}\n",
      "In sklearn but not NLTK: {}\n",
      "\n",
      "School: stoicism, equal: True\n",
      "FreqDist's n° elements: 4726\n",
      "Length BoW from sklearn's CountVectorizer: 4726\n",
      "In NLTK but not sklearn: {}\n",
      "In sklearn but not NLTK: {}\n",
      "\n",
      "School: nietzsche, equal: False\n",
      "FreqDist's n° elements: 15627\n",
      "Length BoW from sklearn's CountVectorizer: 15627\n",
      "In NLTK but not sklearn: {'αγων': 1}\n",
      "In sklearn but not NLTK: {'ἀγών': 1}\n",
      "\n",
      "School: feminism, equal: True\n",
      "FreqDist's n° elements: 22435\n",
      "Length BoW from sklearn's CountVectorizer: 22435\n",
      "In NLTK but not sklearn: {}\n",
      "In sklearn but not NLTK: {}\n",
      "\n"
     ]
    }
   ],
   "source": [
    "nltk_minus_sklearn = {}\n",
    "sklearn_minus_nltk = {}\n",
    "for school in SCHOOLS:\n",
    "    from_nltk = dict(schools_bow[school])\n",
    "    from_sklearn = schools_bow_sklearn[school]\n",
    "    print(f'School: {school}, equal: {from_nltk == from_sklearn}')\n",
    "\n",
    "    print(f\"FreqDist's n° elements: {len(from_nltk)}\")\n",
    "    print(f\"Length BoW from sklearn's CountVectorizer: {len(from_sklearn)}\")\n",
    "\n",
    "    nltk_minus_sklearn[school] = {k:from_nltk[k] for k in from_nltk.keys() - from_sklearn.keys()}\n",
    "    sklearn_minus_nltk[school] = {k:from_sklearn[k] for k in from_sklearn.keys() - from_nltk.keys()}\n",
    "    print(f'In NLTK but not sklearn: {nltk_minus_sklearn[school]}')\n",
    "    print(f'In sklearn but not NLTK: {sklearn_minus_nltk[school]}')\n",
    "    print()"
   ]
  },
  {
   "cell_type": "markdown",
   "metadata": {},
   "source": [
    "No, they're not. \n",
    "\n",
    "I'm pretty sure that part of the reason is because the `create_bow` function uses the column `sentence_str`, so it's `sklearn.CountVectorizer` that does the tokenization. I've checked internally and there are weird characters in some sentences (especially from Plato and Aristotle. Letters with weird accents, that is). Whereas, when building the BoW with `nltk.FreqDist()` method we use already tokenized text, since it uses the `tokenized_txt` column. \n",
    "\n",
    "In brief, the tokenizer used to get the `tokenized_txt` column and that of `sklearn.CountVectorizer()` work differently.\n",
    "\n",
    "Anyway, I'm going with the NLTK way. I may change the `create_bow` function sooner or later."
   ]
  },
  {
   "cell_type": "code",
   "execution_count": 11,
   "metadata": {},
   "outputs": [],
   "source": [
    "def dataframe_prober(word:str,\n",
    "                     school:str):\n",
    "    subwindow = df.loc[df['school']==school, ['tokenized_txt', 'sentence_str']]\n",
    "    for i,sentence in zip(subwindow.index,subwindow['tokenized_txt']):\n",
    "        if word in sentence:\n",
    "            return(i, subwindow.loc[i,'sentence_str'])"
   ]
  },
  {
   "cell_type": "code",
   "execution_count": 12,
   "metadata": {},
   "outputs": [
    {
     "name": "stdout",
     "output_type": "stream",
     "text": [
      "At index 267307: To display (Bamberg and Würzburg: at Göbbard's,.\n"
     ]
    }
   ],
   "source": [
    "index, sentence = dataframe_prober('wurzburg','german_idealism')\n",
    "print(f'At index {index}: {sentence}')"
   ]
  },
  {
   "cell_type": "code",
   "execution_count": 13,
   "metadata": {},
   "outputs": [
    {
     "name": "stdout",
     "output_type": "stream",
     "text": [
      "For the class plato, total number of \"oddities\" is 439\n",
      "For the class aristotle, total number of \"oddities\" is 21\n",
      "For the class empiricism, total number of \"oddities\" is 0\n",
      "For the class rationalism, total number of \"oddities\" is 0\n",
      "For the class analytic, total number of \"oddities\" is 47\n",
      "For the class continental, total number of \"oddities\" is 0\n",
      "For the class phenomenology, total number of \"oddities\" is 0\n",
      "For the class german_idealism, total number of \"oddities\" is 115\n",
      "For the class communism, total number of \"oddities\" is 0\n",
      "For the class capitalism, total number of \"oddities\" is 0\n",
      "For the class stoicism, total number of \"oddities\" is 0\n",
      "For the class nietzsche, total number of \"oddities\" is 2\n",
      "For the class feminism, total number of \"oddities\" is 0\n",
      "Yielding a total of 624 mismatches across all schools\n"
     ]
    }
   ],
   "source": [
    "tot_count = 0\n",
    "for school in SCHOOLS:\n",
    "    school_count = len(sklearn_minus_nltk[school])+len(nltk_minus_sklearn[school])\n",
    "    print(f'For the class {school}, total number of \"oddities\" is {school_count}')\n",
    "    tot_count += school_count\n",
    "\n",
    "print(f'Yielding a total of {tot_count} mismatches across all schools')"
   ]
  },
  {
   "cell_type": "markdown",
   "metadata": {},
   "source": [
    "So the total number has a really little impact. The words affected by this problem are not many. But it's one thing to consider when building a model."
   ]
  },
  {
   "cell_type": "markdown",
   "metadata": {},
   "source": [
    "### Back to business"
   ]
  },
  {
   "cell_type": "code",
   "execution_count": 20,
   "metadata": {},
   "outputs": [],
   "source": [
    "# Normalize the BoW count to get the distribution of each class\n",
    "schools_distribution = {}\n",
    "for school in SCHOOLS:\n",
    "    schools_distribution[school] = {key:val/schools_bow[school].N() for (key,val) in schools_bow[school].items()}"
   ]
  },
  {
   "cell_type": "markdown",
   "metadata": {},
   "source": [
    "Let's also get the word distribution for the whole dataset."
   ]
  },
  {
   "cell_type": "code",
   "execution_count": 21,
   "metadata": {},
   "outputs": [],
   "source": [
    "overall_bow = nltk.FreqDist([w for w in chain.from_iterable(df['tokenized_txt']) if w not in stopwords_list])\n",
    "\n",
    "threshold = 0   # 0.01\n",
    "total_mass = overall_bow.N()    # sum(overall_bow.values())\n",
    "lower_bound = threshold*total_mass\n",
    "\n",
    "philosophy_distribution = {key:val/total_mass for (key,val) in overall_bow.items() if val>threshold}"
   ]
  },
  {
   "cell_type": "code",
   "execution_count": 22,
   "metadata": {},
   "outputs": [
    {
     "data": {
      "text/plain": [
       "[('one', 48216),\n",
       " ('would', 24171),\n",
       " ('must', 21140),\n",
       " ('things', 17482),\n",
       " ('also', 16781),\n",
       " ('may', 16298),\n",
       " ('man', 16152),\n",
       " ('time', 15307),\n",
       " ('us', 15100),\n",
       " ('even', 14461),\n",
       " ('first', 13880),\n",
       " ('say', 12856),\n",
       " ('way', 12854),\n",
       " ('nature', 12796),\n",
       " ('two', 12474),\n",
       " ('world', 12088),\n",
       " ('therefore', 11722),\n",
       " ('reason', 11464),\n",
       " ('without', 11432),\n",
       " ('thing', 11275)]"
      ]
     },
     "execution_count": 22,
     "metadata": {},
     "output_type": "execute_result"
    }
   ],
   "source": [
    "overall_bow.most_common(20)"
   ]
  },
  {
   "cell_type": "code",
   "execution_count": 23,
   "metadata": {},
   "outputs": [
    {
     "data": {
      "image/png": "[encoded data removed]",
      "text/plain": [
       "<Figure size 640x480 with 1 Axes>"
      ]
     },
     "metadata": {},
     "output_type": "display_data"
    },
    {
     "data": {
      "text/plain": [
       "<Axes: title={'center': '50 most frequent words'}, xlabel='Samples', ylabel='Counts'>"
      ]
     },
     "execution_count": 23,
     "metadata": {},
     "output_type": "execute_result"
    }
   ],
   "source": [
    "overall_bow.plot(50,title='50 most frequent words')"
   ]
  },
  {
   "cell_type": "markdown",
   "metadata": {},
   "source": [
    "## Distributions comparison"
   ]
  },
  {
   "cell_type": "markdown",
   "metadata": {},
   "source": [
    "Our contrastive analysis is with three corpora. **Altri discorsi.**"
   ]
  },
  {
   "cell_type": "markdown",
   "metadata": {},
   "source": [
    "### Gutenberg corpus"
   ]
  },
  {
   "cell_type": "code",
   "execution_count": 24,
   "metadata": {},
   "outputs": [
    {
     "name": "stderr",
     "output_type": "stream",
     "text": [
      "[nltk_data] Downloading package gutenberg to /home/andrea/nltk_data...\n",
      "[nltk_data]   Package gutenberg is already up-to-date!\n"
     ]
    },
    {
     "data": {
      "text/plain": [
       "True"
      ]
     },
     "execution_count": 24,
     "metadata": {},
     "output_type": "execute_result"
    }
   ],
   "source": [
    "nltk.download('gutenberg')"
   ]
  },
  {
   "cell_type": "code",
   "execution_count": 25,
   "metadata": {},
   "outputs": [
    {
     "data": {
      "text/plain": [
       "['austen-emma.txt',\n",
       " 'austen-persuasion.txt',\n",
       " 'austen-sense.txt',\n",
       " 'bible-kjv.txt',\n",
       " 'blake-poems.txt',\n",
       " 'bryant-stories.txt',\n",
       " 'burgess-busterbrown.txt',\n",
       " 'carroll-alice.txt',\n",
       " 'chesterton-ball.txt',\n",
       " 'chesterton-brown.txt',\n",
       " 'chesterton-thursday.txt',\n",
       " 'edgeworth-parents.txt',\n",
       " 'melville-moby_dick.txt',\n",
       " 'milton-paradise.txt',\n",
       " 'shakespeare-caesar.txt',\n",
       " 'shakespeare-hamlet.txt',\n",
       " 'shakespeare-macbeth.txt',\n",
       " 'whitman-leaves.txt']"
      ]
     },
     "execution_count": 25,
     "metadata": {},
     "output_type": "execute_result"
    }
   ],
   "source": [
    "from nltk.corpus import gutenberg\n",
    "gutenberg.fileids()"
   ]
  },
  {
   "cell_type": "markdown",
   "metadata": {},
   "source": [
    "Upon inspection, the Gutenberg corpus is pretty clean. However, each file has those annoying headers. In the great scheme of things, they aren't very meaningful."
   ]
  },
  {
   "cell_type": "code",
   "execution_count": 14,
   "metadata": {},
   "outputs": [],
   "source": [
    "filtered_words = []\n",
    "threshold = 0  #0.05\n",
    "for filename in gutenberg.fileids():\n",
    "    words_list = gutenberg.words(filename)\n",
    "    # We filter away stopwords and non-alphanumeric words\n",
    "    # We also remove the trailing header\n",
    "    filtered_words.append([w for w in words_list[words_list.index(']'):] if (w.lower() not in stopwords_list and w.isalnum())])\n",
    "\n",
    "gutenberg_freq_dist = nltk.FreqDist([w for w in chain.from_iterable(filtered_words)])\n",
    "\n",
    "# We could remove the rarest words\n",
    "total_mass = sum(gutenberg_freq_dist.values())  # gutenberg_freq_dist.N()\n",
    "lower_bound = threshold*total_mass\n",
    "gutenberg_distribution = nltk.FreqDist({k:v/total_mass for (k,v) in gutenberg_freq_dist.items() if v>lower_bound})"
   ]
  },
  {
   "cell_type": "markdown",
   "metadata": {},
   "source": [
    "Let's now compare the distribution of our dataset with the one from the Gutenberg corpus.\n",
    "\n",
    "The comparison I propose can be described as follows:\n",
    "- The two distribution's supports will have some overlapping.\n",
    "- For both distributions, we compute the amount of shared mass. That is, how much mass lies on the shared support\n",
    "- We can see the distributions restricted to the common support as vectors, of course. So,\n",
    "    - We compute the $l_2$ distance between the vectors (aka the two distributions on the shared support).\n",
    "    - We compute the cosine of the angle (aka cosine similarity (cringe name btw)) between the two vectors\n",
    "\n",
    "This should give a nice view at a glance"
   ]
  },
  {
   "cell_type": "code",
   "execution_count": 28,
   "metadata": {},
   "outputs": [
    {
     "name": "stdout",
     "output_type": "stream",
     "text": [
      "89.84% of the words in the philosophy corpus are shared with the gutenberg corpus\n",
      "78.41% of the words in the Gutenberg corpus are shared with our philosophy corpus\n",
      "The distance of the two distributions (on the shared portion of the support) is 2.6482e-02\n",
      "The cosine similarity between the two distributions (on the shared portion of the support) is 0.5845\n"
     ]
    }
   ],
   "source": [
    "# shared support: words present in both corpora\n",
    "shared_support = [k for k in philosophy_distribution.keys() if k in gutenberg_distribution.keys()]\n",
    "\n",
    "mass_philosophy, mass_gutenberg = 0,0 \n",
    "distance, norm_philosophy, norm_gutenberg, dot = 0,0,0,0\n",
    "for w in shared_support:\n",
    "    phil, gut = philosophy_distribution[w], gutenberg_distribution[w]\n",
    "    mass_philosophy += phil\n",
    "    mass_gutenberg += gut\n",
    "\n",
    "    # compute the angle\n",
    "    dot += phil*gut\n",
    "    norm_philosophy += phil**2\n",
    "    norm_gutenberg += gut**2\n",
    "\n",
    "    # distance between the sequences\n",
    "    distance += (phil-gut)**2\n",
    "\n",
    "norm_philosophy = np.sqrt(norm_philosophy)\n",
    "norm_gutenberg = np.sqrt(norm_gutenberg)\n",
    "distance = np.sqrt(distance)  \n",
    "\n",
    "print(f'{100*mass_philosophy:2.2f}% of the words in the philosophy corpus are shared with the gutenberg corpus')\n",
    "print(f'{100*mass_gutenberg:2.2f}% of the words in the Gutenberg corpus are shared with our philosophy corpus')\n",
    "print(f'The distance of the two distributions (on the shared portion of the support) is {distance:.4e}')\n",
    "print(f'The cosine similarity between the two distributions (on the shared portion of the support) is {dot/(norm_philosophy*norm_gutenberg):.4f}')"
   ]
  },
  {
   "cell_type": "markdown",
   "metadata": {},
   "source": [
    "**OPTIONAL**: a nice plot, with the overlapping distributions."
   ]
  },
  {
   "cell_type": "markdown",
   "metadata": {},
   "source": [
    "### Brown Corpus"
   ]
  },
  {
   "cell_type": "code",
   "execution_count": 31,
   "metadata": {},
   "outputs": [
    {
     "name": "stderr",
     "output_type": "stream",
     "text": [
      "[nltk_data] Downloading package brown to /home/andrea/nltk_data...\n",
      "[nltk_data]   Package brown is already up-to-date!\n"
     ]
    },
    {
     "data": {
      "text/plain": [
       "True"
      ]
     },
     "execution_count": 31,
     "metadata": {},
     "output_type": "execute_result"
    }
   ],
   "source": [
    "nltk.download('brown')"
   ]
  },
  {
   "cell_type": "code",
   "execution_count": 32,
   "metadata": {},
   "outputs": [
    {
     "data": {
      "text/plain": [
       "['adventure',\n",
       " 'belles_lettres',\n",
       " 'editorial',\n",
       " 'fiction',\n",
       " 'government',\n",
       " 'hobbies',\n",
       " 'humor',\n",
       " 'learned',\n",
       " 'lore',\n",
       " 'mystery',\n",
       " 'news',\n",
       " 'religion',\n",
       " 'reviews',\n",
       " 'romance',\n",
       " 'science_fiction']"
      ]
     },
     "execution_count": 32,
     "metadata": {},
     "output_type": "execute_result"
    }
   ],
   "source": [
    "from nltk.corpus import brown\n",
    "brown.categories()"
   ]
  },
  {
   "cell_type": "code",
   "execution_count": 33,
   "metadata": {},
   "outputs": [
    {
     "name": "stdout",
     "output_type": "stream",
     "text": [
      "The Brown corpus consists of 1161192 words\n"
     ]
    }
   ],
   "source": [
    "print(f'The Brown corpus consists of {len(brown.words())} words')"
   ]
  },
  {
   "cell_type": "markdown",
   "metadata": {},
   "source": [
    "---"
   ]
  },
  {
   "cell_type": "code",
   "execution_count": 26,
   "metadata": {},
   "outputs": [],
   "source": [
    "catg = 'romance'\n",
    "filtered_words = [w for w in brown.words(categories=catg) if w.lower() not in stopwords_list and w.isalnum()]"
   ]
  },
  {
   "cell_type": "code",
   "execution_count": 27,
   "metadata": {},
   "outputs": [],
   "source": [
    "# helper function that counts occurrencies, with a functional programming twist!\n",
    "# (who doesn't love that...)\n",
    "\n",
    "from functools import reduce\n",
    "\n",
    "def count_upper_lower_case(word):\n",
    "    word = word.lower()\n",
    "    check_word_tuple = tuple(\n",
    "                        map(lambda parola: reduce(lambda acc, w: acc + int(w==parola),filtered_words,0), \n",
    "                            (word, word.capitalize())\n",
    "                        )\n",
    "                    )\n",
    "    return check_word_tuple"
   ]
  },
  {
   "cell_type": "code",
   "execution_count": 28,
   "metadata": {},
   "outputs": [],
   "source": [
    "# define some examples...\n",
    "check_words = ['house', 'god', 'clock', 'since', 'love']\n",
    "# ... and count occurrencies in the word list\n",
    "count_tuples = [count_upper_lower_case(w) for w in check_words]"
   ]
  },
  {
   "cell_type": "code",
   "execution_count": 29,
   "metadata": {},
   "outputs": [],
   "source": [
    "freq_dist = nltk.FreqDist(w.lower() for w in filtered_words)"
   ]
  },
  {
   "cell_type": "code",
   "execution_count": 30,
   "metadata": {},
   "outputs": [
    {
     "name": "stdout",
     "output_type": "stream",
     "text": [
      "In the words list, house appears 36 times, and House appears 1 times\n",
      "In the FreqDist object, house has a count of 37\n",
      "The count is correct: True\n",
      "\n",
      "In the words list, god appears 5 times, and God appears 23 times\n",
      "In the FreqDist object, god has a count of 28\n",
      "The count is correct: True\n",
      "\n",
      "In the words list, clock appears 2 times, and Clock appears 0 times\n",
      "In the FreqDist object, clock has a count of 2\n",
      "The count is correct: True\n",
      "\n",
      "In the words list, since appears 19 times, and Since appears 3 times\n",
      "In the FreqDist object, since has a count of 22\n",
      "The count is correct: True\n",
      "\n",
      "In the words list, love appears 32 times, and Love appears 4 times\n",
      "In the FreqDist object, love has a count of 36\n",
      "The count is correct: True\n",
      "\n"
     ]
    }
   ],
   "source": [
    "for word,counts in zip(check_words, count_tuples):\n",
    "    print(f'In the words list, {word} appears {counts[0]} times, and {word.capitalize()} appears {counts[1]} times')\n",
    "    print(f'In the FreqDist object, {word} has a count of {freq_dist[word]}')\n",
    "    print(f'The count is correct: {freq_dist[word] == sum(counts)}')\n",
    "    print()"
   ]
  },
  {
   "cell_type": "markdown",
   "metadata": {},
   "source": [
    "---"
   ]
  },
  {
   "cell_type": "code",
   "execution_count": 34,
   "metadata": {},
   "outputs": [
    {
     "name": "stdout",
     "output_type": "stream",
     "text": [
      "All is well\n"
     ]
    }
   ],
   "source": [
    "# word frequencies per category\n",
    "brown_words_per_cat, brown_distribution = {}, {}\n",
    "cat_checks = [True]\n",
    "\n",
    "threshold = 0      #0.05\n",
    "verbose = 0\n",
    "for category in brown.categories():\n",
    "    # We first filter away stopwords and non-alphanumeric words\n",
    "    # (We don't want to compare the usage of stopwords in our dataset \n",
    "    # and in the Brown corpus. We already know they'll be sharing \n",
    "    # a lot of that mass...)\n",
    "    filtered_words = [w for w in brown.words(categories=category) if (w.lower() not in stopwords_list and w.isalnum())]\n",
    "    \n",
    "    # I compare lowercase letters because we're just interested in counts/frequencies.\n",
    "    # Maybe capitalizing some words may convey meaning, but it's something for\n",
    "    # the classifiers, not this analysis.   \n",
    "    freq_dist = nltk.FreqDist(w.lower() for w in filtered_words)\n",
    "    \n",
    "    # We may want to discard words that are too infrequent\n",
    "    total_mass = sum(freq_dist.values())    #freq_dist.N()\n",
    "    lower_bound = threshold*total_mass    \n",
    "    brown_words_per_cat[category] = nltk.FreqDist({k:v for (k,v) in freq_dist.items() if v>lower_bound})\n",
    "\n",
    "    # Normalize\n",
    "    brown_distribution[category] = {key:val/brown_words_per_cat[category].N() for (key,val) in brown_words_per_cat[category].items()}\n",
    "\n",
    "    if verbose: \n",
    "        checks = len(filtered_words)==total_mass, sum(brown_distribution[category].values())==1\n",
    "        print(f'category: {category}, n° words: {len(filtered_words)}')\n",
    "        print(f'There are capitalized words: {any([w.lower()!=w for w in filtered_words])}')\n",
    "        print(f'Total counts (in the freq_dist FreqDist object): {total_mass}, matches n° of words (as it must be): {checks[0]}')\n",
    "        print(f'Lower bound is {lower_bound}')\n",
    "        print(f'Unitary mass in distribution: {checks[1]}')\n",
    "        print()\n",
    "        cat_checks.append(all(checks))\n",
    "\n",
    "assert all(cat_checks)\n",
    "print('All is well')\n"
   ]
  },
  {
   "cell_type": "markdown",
   "metadata": {},
   "source": [
    "Let's now compare the distributions we have for our data with the ones we have for each category in the Brown corpus.\n",
    "\n",
    "We use the same approach we used for the Gutenberg corpus."
   ]
  },
  {
   "cell_type": "code",
   "execution_count": 37,
   "metadata": {},
   "outputs": [
    {
     "name": "stdout",
     "output_type": "stream",
     "text": [
      "Category adventure of the Brown corpus:\n",
      "\t62.57% of the words in the philosophy corpus are shared with the Brown corpus (for category adventure)\n",
      "\t92.43% of the words in the Brown corpus are shared with our philosophy corpus (for category adventure)\n",
      "\tDistance: 2.6281e-02\n",
      "\tCosine similarity: 0.5886\n",
      "\n",
      "Category belles_lettres of the Brown corpus:\n",
      "\t85.45% of the words in the philosophy corpus are shared with the Brown corpus (for category belles_lettres)\n",
      "\t94.72% of the words in the Brown corpus are shared with our philosophy corpus (for category belles_lettres)\n",
      "\tDistance: 1.6232e-02\n",
      "\tCosine similarity: 0.8226\n",
      "\n",
      "Category editorial of the Brown corpus:\n",
      "\t73.29% of the words in the philosophy corpus are shared with the Brown corpus (for category editorial)\n",
      "\t93.76% of the words in the Brown corpus are shared with our philosophy corpus (for category editorial)\n",
      "\tDistance: 2.0718e-02\n",
      "\tCosine similarity: 0.6994\n",
      "\n",
      "Category fiction of the Brown corpus:\n",
      "\t65.81% of the words in the philosophy corpus are shared with the Brown corpus (for category fiction)\n",
      "\t93.49% of the words in the Brown corpus are shared with our philosophy corpus (for category fiction)\n",
      "\tDistance: 2.4389e-02\n",
      "\tCosine similarity: 0.6326\n",
      "\n",
      "Category government of the Brown corpus:\n",
      "\t69.53% of the words in the philosophy corpus are shared with the Brown corpus (for category government)\n",
      "\t92.76% of the words in the Brown corpus are shared with our philosophy corpus (for category government)\n",
      "\tDistance: 2.7596e-02\n",
      "\tCosine similarity: 0.5106\n",
      "\n",
      "Category hobbies of the Brown corpus:\n",
      "\t72.95% of the words in the philosophy corpus are shared with the Brown corpus (for category hobbies)\n",
      "\t91.85% of the words in the Brown corpus are shared with our philosophy corpus (for category hobbies)\n",
      "\tDistance: 2.1303e-02\n",
      "\tCosine similarity: 0.6708\n",
      "\n",
      "Category humor of the Brown corpus:\n",
      "\t55.82% of the words in the philosophy corpus are shared with the Brown corpus (for category humor)\n",
      "\t92.07% of the words in the Brown corpus are shared with our philosophy corpus (for category humor)\n",
      "\tDistance: 2.1354e-02\n",
      "\tCosine similarity: 0.7048\n",
      "\n",
      "Category learned of the Brown corpus:\n",
      "\t83.20% of the words in the philosophy corpus are shared with the Brown corpus (for category learned)\n",
      "\t91.90% of the words in the Brown corpus are shared with our philosophy corpus (for category learned)\n",
      "\tDistance: 2.1622e-02\n",
      "\tCosine similarity: 0.6704\n",
      "\n",
      "Category lore of the Brown corpus:\n",
      "\t80.42% of the words in the philosophy corpus are shared with the Brown corpus (for category lore)\n",
      "\t93.80% of the words in the Brown corpus are shared with our philosophy corpus (for category lore)\n",
      "\tDistance: 1.8616e-02\n",
      "\tCosine similarity: 0.7567\n",
      "\n",
      "Category mystery of the Brown corpus:\n",
      "\t58.34% of the words in the philosophy corpus are shared with the Brown corpus (for category mystery)\n",
      "\t93.25% of the words in the Brown corpus are shared with our philosophy corpus (for category mystery)\n",
      "\tDistance: 2.6832e-02\n",
      "\tCosine similarity: 0.6144\n",
      "\n",
      "Category news of the Brown corpus:\n",
      "\t73.61% of the words in the philosophy corpus are shared with the Brown corpus (for category news)\n",
      "\t89.19% of the words in the Brown corpus are shared with our philosophy corpus (for category news)\n",
      "\tDistance: 2.4838e-02\n",
      "\tCosine similarity: 0.5518\n",
      "\n",
      "Category religion of the Brown corpus:\n",
      "\t70.07% of the words in the philosophy corpus are shared with the Brown corpus (for category religion)\n",
      "\t95.80% of the words in the Brown corpus are shared with our philosophy corpus (for category religion)\n",
      "\tDistance: 2.1871e-02\n",
      "\tCosine similarity: 0.7097\n",
      "\n",
      "Category reviews of the Brown corpus:\n",
      "\t67.47% of the words in the philosophy corpus are shared with the Brown corpus (for category reviews)\n",
      "\t90.27% of the words in the Brown corpus are shared with our philosophy corpus (for category reviews)\n",
      "\tDistance: 2.1038e-02\n",
      "\tCosine similarity: 0.6716\n",
      "\n",
      "Category romance of the Brown corpus:\n",
      "\t64.20% of the words in the philosophy corpus are shared with the Brown corpus (for category romance)\n",
      "\t93.80% of the words in the Brown corpus are shared with our philosophy corpus (for category romance)\n",
      "\tDistance: 2.6880e-02\n",
      "\tCosine similarity: 0.6098\n",
      "\n",
      "Category science_fiction of the Brown corpus:\n",
      "\t50.24% of the words in the philosophy corpus are shared with the Brown corpus (for category science_fiction)\n",
      "\t93.28% of the words in the Brown corpus are shared with our philosophy corpus (for category science_fiction)\n",
      "\tDistance: 2.6549e-02\n",
      "\tCosine similarity: 0.6373\n",
      "\n"
     ]
    }
   ],
   "source": [
    "shared_support, mass_philosophy, mass_brown = {},{},{}\n",
    "dot, norm_philosophy, norm_brown, distance = {},{},{},{}\n",
    "\n",
    "for category in brown.categories():\n",
    "    shared_support[category] = [k for k in philosophy_distribution.keys() if k in brown_distribution[category].keys()]\n",
    "\n",
    "    mass_philosophy[category], mass_brown[category], distance[category] = 0,0,0\n",
    "    norm_brown[category], norm_philosophy[category], dot[category] = 0,0,0\n",
    "\n",
    "    for w in shared_support[category]:\n",
    "        phil, brwn = philosophy_distribution[w], brown_distribution[category][w]\n",
    "        mass_philosophy[category] += phil\n",
    "        mass_brown[category] += brwn\n",
    "\n",
    "        # angle\n",
    "        dot[category] += phil*brwn\n",
    "        norm_philosophy[category] += phil**2\n",
    "        norm_brown[category] += brwn**2      \n",
    "\n",
    "        distance\n",
    "        distance[category] += (phil-brwn)**2\n",
    "\n",
    "    norm_philosophy[category] = np.sqrt(norm_philosophy[category])\n",
    "    norm_brown[category] = np.sqrt(norm_brown[category])\n",
    "    distance[category] = np.sqrt(distance[category])\n",
    "\n",
    "    print(f'Category {category} of the Brown corpus:')\n",
    "    print(f'\\t{100*mass_philosophy[category]:2.2f}% of the words in the philosophy corpus are shared with the Brown corpus (for category {category})')\n",
    "    print(f'\\t{100*mass_brown[category]:2.2f}% of the words in the Brown corpus are shared with our philosophy corpus (for category {category})')\n",
    "    print(f'\\tDistance: {distance[category]:.4e}')\n",
    "    print(f'\\tCosine similarity: {dot[category]/(norm_philosophy[category]*norm_brown[category]):.4f}')\n",
    "    print()"
   ]
  },
  {
   "cell_type": "markdown",
   "metadata": {},
   "source": [
    "**VERY OPTIONAL**: a nice plot (with subplots), with the overlapping distributions."
   ]
  },
  {
   "cell_type": "markdown",
   "metadata": {},
   "source": [
    "### Simple english wikipedia corpus"
   ]
  },
  {
   "cell_type": "markdown",
   "metadata": {},
   "source": []
  }
 ],
 "metadata": {
  "kernelspec": {
   "display_name": "HLT-env",
   "language": "python",
   "name": "python3"
  },
  "language_info": {
   "codemirror_mode": {
    "name": "ipython",
    "version": 3
   },
   "file_extension": ".py",
   "mimetype": "text/x-python",
   "name": "python",
   "nbconvert_exporter": "python",
   "pygments_lexer": "ipython3",
   "version": "3.12.2"
  }
 },
 "nbformat": 4,
 "nbformat_minor": 2
}
